{
 "cells": [
  {
   "cell_type": "code",
   "execution_count": 42,
   "metadata": {
    "collapsed": false
   },
   "outputs": [],
   "source": [
    "import math\n",
    "import time\n",
    "import numpy as np"
   ]
  },
  {
   "cell_type": "code",
   "execution_count": 43,
   "metadata": {
    "collapsed": true
   },
   "outputs": [],
   "source": [
    "start_time = time.clock()\n",
    "length = 21\n",
    "MaxX=length\n",
    "def func(x):\n",
    "    return math.cos(x * math.pi)"
   ]
  },
  {
   "cell_type": "code",
   "execution_count": 44,
   "metadata": {
    "collapsed": false
   },
   "outputs": [],
   "source": [
    "XCheby = np.zeros(length)\n",
    "XrightCheby = np.zeros(length)\n",
    "YCheby = np.zeros(length)\n",
    "for i in range(length):\n",
    "    XCheby[i] = math.cos(math.pi*(2 * i + 1) / (2 * length + 2));\n",
    "    XrightCheby[i] = MaxX/2*XCheby[i]+MaxX/2;"
   ]
  },
  {
   "cell_type": "code",
   "execution_count": 45,
   "metadata": {
    "collapsed": false
   },
   "outputs": [],
   "source": [
    "xs = [i for i in range (length)]\n",
    "div_diffs = []\n",
    "div_diffs.append([])\n",
    "for i in range (length):\n",
    "    div_diffs[0].append(func(XrightCheby[i]))\n",
    "for i in range(1, length):\n",
    "    div_diffs.append([])\n",
    "    for j in range (length - i):\n",
    "        div_diffs[i].append((div_diffs[i - 1][j + 1] - div_diffs[i - 1][j]) / (xs[i + j] - xs[j]))"
   ]
  },
  {
   "cell_type": "code",
   "execution_count": 46,
   "metadata": {
    "collapsed": false
   },
   "outputs": [],
   "source": [
    "def newton_polynom(x):\n",
    "    result = 0\n",
    "    for i in range (length):\n",
    "        addition = div_diffs[i][0]\n",
    "        for j in range (i):\n",
    "            addition *= (x - xs[j])\n",
    "        result += addition\n",
    "    return result"
   ]
  },
  {
   "cell_type": "code",
   "execution_count": 47,
   "metadata": {
    "collapsed": false
   },
   "outputs": [],
   "source": [
    "file = open('result.txt', 'w+')\n",
    "file.write('Щурик Валерий Геннадьевич 3 курс 12 группа\\n')\n",
    "file.write('Метод Ньютона. Точки xi = Chebyshev\\n')\n",
    "for i in range (length):\n",
    "    file.write(str(i) + ': ' + str(newton_polynom(i)) + '\\n')\n",
    "file.write ('x = 1 / 4, f(1 / 4) = ' + str(func(0.25)) + ', Pn(1 / 4) = ' + str(newton_polynom(0.25)) + '\\n')\n",
    "file.write ('x = 10 - 1 / 4, f(10 - 1 / 4) = ' + str(func(10 - 0.25)) + ', Pn(10 - 1 / 4) = ' + str(newton_polynom(10 - 0.25)) + '\\n')\n",
    "file.write(str(time.clock() - start_time) + ' секунд\\n')\n",
    "file.close()"
   ]
  },
  {
   "cell_type": "code",
   "execution_count": null,
   "metadata": {
    "collapsed": true
   },
   "outputs": [],
   "source": []
  },
  {
   "cell_type": "code",
   "execution_count": null,
   "metadata": {
    "collapsed": true
   },
   "outputs": [],
   "source": []
  }
 ],
 "metadata": {
  "kernelspec": {
   "display_name": "Python 3",
   "language": "python",
   "name": "python3"
  },
  "language_info": {
   "codemirror_mode": {
    "name": "ipython",
    "version": 3
   },
   "file_extension": ".py",
   "mimetype": "text/x-python",
   "name": "python",
   "nbconvert_exporter": "python",
   "pygments_lexer": "ipython3",
   "version": "3.6.0"
  }
 },
 "nbformat": 4,
 "nbformat_minor": 2
}
